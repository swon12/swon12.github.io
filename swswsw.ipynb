{
 "cells": [
  {
   "cell_type": "code",
   "execution_count": 8,
   "metadata": {
    "execution": {
     "iopub.execute_input": "2022-04-11T05:20:44.348406Z",
     "iopub.status.busy": "2022-04-11T05:20:44.348127Z",
     "iopub.status.idle": "2022-04-11T05:20:44.397118Z",
     "shell.execute_reply": "2022-04-11T05:20:44.396496Z",
     "shell.execute_reply.started": "2022-04-11T05:20:44.348375Z"
    }
   },
   "outputs": [
    {
     "ename": "ModuleNotFoundError",
     "evalue": "No module named 'pandas'",
     "output_type": "error",
     "traceback": [
      "\u001b[1;31m---------------------------------------------------------------------------\u001b[0m",
      "\u001b[1;31mModuleNotFoundError\u001b[0m                       Traceback (most recent call last)",
      "Input \u001b[1;32mIn [8]\u001b[0m, in \u001b[0;36m<cell line: 2>\u001b[1;34m()\u001b[0m\n\u001b[0;32m      1\u001b[0m \u001b[38;5;28;01mimport\u001b[39;00m \u001b[38;5;21;01mnumpy\u001b[39;00m \u001b[38;5;28;01mas\u001b[39;00m \u001b[38;5;21;01mnp\u001b[39;00m \u001b[38;5;66;03m# linear algebra\u001b[39;00m\n\u001b[1;32m----> 2\u001b[0m \u001b[38;5;28;01mimport\u001b[39;00m \u001b[38;5;21;01mpandas\u001b[39;00m \u001b[38;5;28;01mas\u001b[39;00m \u001b[38;5;21;01mpd\u001b[39;00m \u001b[38;5;66;03m# data processing, CSV file I/O (e.g. pd.read_csv)\u001b[39;00m\n\u001b[0;32m      3\u001b[0m train_data \u001b[38;5;241m=\u001b[39m pd\u001b[38;5;241m.\u001b[39mread_csv(\u001b[38;5;124m'\u001b[39m\u001b[38;5;124m../input/ageron/datasets/titanic/train.csv\u001b[39m\u001b[38;5;124m'\u001b[39m)  \u001b[38;5;66;03m# training dataframe\u001b[39;00m\n\u001b[0;32m      4\u001b[0m test_data  \u001b[38;5;241m=\u001b[39m pd\u001b[38;5;241m.\u001b[39mread_csv(\u001b[38;5;124m'\u001b[39m\u001b[38;5;124m../input/ageron/datasets/titanic/test.csv\u001b[39m\u001b[38;5;124m'\u001b[39m)   \u001b[38;5;66;03m# test dataframe\u001b[39;00m\n",
      "\u001b[1;31mModuleNotFoundError\u001b[0m: No module named 'pandas'"
     ]
    }
   ],
   "source": [
    "import numpy as np # linear algebra\n",
    "import pandas as pd # data processing, CSV file I/O (e.g. pd.read_csv)\n",
    "train_data = pd.read_csv('../input/ageron/datasets/titanic/train.csv')  # training dataframe\n",
    "test_data  = pd.read_csv('../input/ageron/datasets/titanic/test.csv')   # test dataframe\n",
    "train_data.head()"
   ]
  },
  {
   "cell_type": "code",
   "execution_count": 4,
   "metadata": {
    "execution": {
     "iopub.execute_input": "2022-04-11T05:20:44.399181Z",
     "iopub.status.busy": "2022-04-11T05:20:44.398861Z",
     "iopub.status.idle": "2022-04-11T05:20:44.500004Z",
     "shell.execute_reply": "2022-04-11T05:20:44.499377Z",
     "shell.execute_reply.started": "2022-04-11T05:20:44.399139Z"
    }
   },
   "outputs": [
    {
     "ename": "NameError",
     "evalue": "name 'train_data' is not defined",
     "output_type": "error",
     "traceback": [
      "\u001b[1;31m---------------------------------------------------------------------------\u001b[0m",
      "\u001b[1;31mNameError\u001b[0m                                 Traceback (most recent call last)",
      "Input \u001b[1;32mIn [4]\u001b[0m, in \u001b[0;36m<cell line: 1>\u001b[1;34m()\u001b[0m\n\u001b[1;32m----> 1\u001b[0m \u001b[43mtrain_data\u001b[49m\u001b[38;5;241m.\u001b[39minfo()\n",
      "\u001b[1;31mNameError\u001b[0m: name 'train_data' is not defined"
     ]
    }
   ],
   "source": [
    "train_data.info()"
   ]
  },
  {
   "cell_type": "code",
   "execution_count": 5,
   "metadata": {
    "execution": {
     "iopub.execute_input": "2022-04-11T05:20:44.501305Z",
     "iopub.status.busy": "2022-04-11T05:20:44.500998Z",
     "iopub.status.idle": "2022-04-11T05:20:44.509158Z",
     "shell.execute_reply": "2022-04-11T05:20:44.508592Z",
     "shell.execute_reply.started": "2022-04-11T05:20:44.501279Z"
    }
   },
   "outputs": [
    {
     "ename": "NameError",
     "evalue": "name 'train_data' is not defined",
     "output_type": "error",
     "traceback": [
      "\u001b[1;31m---------------------------------------------------------------------------\u001b[0m",
      "\u001b[1;31mNameError\u001b[0m                                 Traceback (most recent call last)",
      "Input \u001b[1;32mIn [5]\u001b[0m, in \u001b[0;36m<cell line: 1>\u001b[1;34m()\u001b[0m\n\u001b[1;32m----> 1\u001b[0m \u001b[43mtrain_data\u001b[49m[train_data[\u001b[38;5;124m\"\u001b[39m\u001b[38;5;124mSex\u001b[39m\u001b[38;5;124m\"\u001b[39m]\u001b[38;5;241m==\u001b[39m\u001b[38;5;124m\"\u001b[39m\u001b[38;5;124mfemale\u001b[39m\u001b[38;5;124m\"\u001b[39m][\u001b[38;5;124m\"\u001b[39m\u001b[38;5;124mAge\u001b[39m\u001b[38;5;124m\"\u001b[39m]\u001b[38;5;241m.\u001b[39mmedian()\n",
      "\u001b[1;31mNameError\u001b[0m: name 'train_data' is not defined"
     ]
    }
   ],
   "source": [
    "train_data[train_data[\"Sex\"]==\"female\"][\"Age\"].median()"
   ]
  },
  {
   "cell_type": "code",
   "execution_count": null,
   "metadata": {
    "execution": {
     "iopub.execute_input": "2022-04-11T05:20:44.510935Z",
     "iopub.status.busy": "2022-04-11T05:20:44.51049Z",
     "iopub.status.idle": "2022-04-11T05:20:44.549017Z",
     "shell.execute_reply": "2022-04-11T05:20:44.548402Z",
     "shell.execute_reply.started": "2022-04-11T05:20:44.510897Z"
    }
   },
   "outputs": [],
   "source": [
    "train_data.describe()"
   ]
  },
  {
   "cell_type": "code",
   "execution_count": null,
   "metadata": {
    "execution": {
     "iopub.execute_input": "2022-04-11T05:20:44.552362Z",
     "iopub.status.busy": "2022-04-11T05:20:44.551584Z",
     "iopub.status.idle": "2022-04-11T05:20:44.560699Z",
     "shell.execute_reply": "2022-04-11T05:20:44.559861Z",
     "shell.execute_reply.started": "2022-04-11T05:20:44.552314Z"
    }
   },
   "outputs": [],
   "source": [
    "train_data[\"Survived\"].value_counts()"
   ]
  },
  {
   "cell_type": "code",
   "execution_count": null,
   "metadata": {
    "execution": {
     "iopub.execute_input": "2022-04-11T05:20:44.563047Z",
     "iopub.status.busy": "2022-04-11T05:20:44.562325Z",
     "iopub.status.idle": "2022-04-11T05:20:44.572305Z",
     "shell.execute_reply": "2022-04-11T05:20:44.571434Z",
     "shell.execute_reply.started": "2022-04-11T05:20:44.563008Z"
    }
   },
   "outputs": [],
   "source": [
    "train_data[\"Pclass\"].value_counts()"
   ]
  },
  {
   "cell_type": "code",
   "execution_count": null,
   "metadata": {
    "execution": {
     "iopub.execute_input": "2022-04-11T05:20:44.573839Z",
     "iopub.status.busy": "2022-04-11T05:20:44.573471Z",
     "iopub.status.idle": "2022-04-11T05:20:44.585323Z",
     "shell.execute_reply": "2022-04-11T05:20:44.584499Z",
     "shell.execute_reply.started": "2022-04-11T05:20:44.573812Z"
    }
   },
   "outputs": [],
   "source": [
    "train_data[\"Sex\"].value_counts()"
   ]
  },
  {
   "cell_type": "code",
   "execution_count": null,
   "metadata": {
    "execution": {
     "iopub.execute_input": "2022-04-11T05:20:44.586637Z",
     "iopub.status.busy": "2022-04-11T05:20:44.586405Z",
     "iopub.status.idle": "2022-04-11T05:20:44.601328Z",
     "shell.execute_reply": "2022-04-11T05:20:44.60057Z",
     "shell.execute_reply.started": "2022-04-11T05:20:44.586605Z"
    }
   },
   "outputs": [],
   "source": [
    "train_data[\"Embarked\"].value_counts()"
   ]
  },
  {
   "cell_type": "code",
   "execution_count": null,
   "metadata": {
    "execution": {
     "iopub.execute_input": "2022-04-11T05:20:44.602791Z",
     "iopub.status.busy": "2022-04-11T05:20:44.602518Z",
     "iopub.status.idle": "2022-04-11T05:20:45.804453Z",
     "shell.execute_reply": "2022-04-11T05:20:45.803593Z",
     "shell.execute_reply.started": "2022-04-11T05:20:44.602763Z"
    }
   },
   "outputs": [],
   "source": [
    "from sklearn.pipeline import Pipeline\n",
    "from sklearn.impute import SimpleImputer\n",
    "from sklearn.preprocessing import StandardScaler\n",
    "\n",
    "num_pipeline = Pipeline([\n",
    "        (\"imputer\", SimpleImputer(strategy=\"median\")),\n",
    "        (\"scaler\", StandardScaler())\n",
    "    ])"
   ]
  },
  {
   "cell_type": "code",
   "execution_count": null,
   "metadata": {
    "execution": {
     "iopub.execute_input": "2022-04-11T05:20:45.805693Z",
     "iopub.status.busy": "2022-04-11T05:20:45.805483Z",
     "iopub.status.idle": "2022-04-11T05:20:45.812113Z",
     "shell.execute_reply": "2022-04-11T05:20:45.811469Z",
     "shell.execute_reply.started": "2022-04-11T05:20:45.805669Z"
    }
   },
   "outputs": [],
   "source": [
    "from sklearn.preprocessing import OrdinalEncoder, OneHotEncoder"
   ]
  },
  {
   "cell_type": "code",
   "execution_count": null,
   "metadata": {
    "execution": {
     "iopub.execute_input": "2022-04-11T05:20:45.813836Z",
     "iopub.status.busy": "2022-04-11T05:20:45.81312Z",
     "iopub.status.idle": "2022-04-11T05:20:45.823159Z",
     "shell.execute_reply": "2022-04-11T05:20:45.822222Z",
     "shell.execute_reply.started": "2022-04-11T05:20:45.813792Z"
    }
   },
   "outputs": [],
   "source": [
    "cat_pipeline = Pipeline([\n",
    "        (\"ordinal_encoder\", OrdinalEncoder()),    \n",
    "        (\"imputer\", SimpleImputer(strategy=\"most_frequent\")),\n",
    "        (\"cat_encoder\", OneHotEncoder(sparse=False)),\n",
    "    ])"
   ]
  },
  {
   "cell_type": "code",
   "execution_count": null,
   "metadata": {
    "execution": {
     "iopub.execute_input": "2022-04-11T05:20:45.824918Z",
     "iopub.status.busy": "2022-04-11T05:20:45.824561Z",
     "iopub.status.idle": "2022-04-11T05:20:45.84051Z",
     "shell.execute_reply": "2022-04-11T05:20:45.839621Z",
     "shell.execute_reply.started": "2022-04-11T05:20:45.824878Z"
    }
   },
   "outputs": [],
   "source": [
    "from sklearn.compose import ColumnTransformer\n",
    "\n",
    "num_attribs = [\"Age\", \"SibSp\", \"Parch\", \"Fare\"]\n",
    "cat_attribs = [\"Pclass\", \"Sex\", \"Embarked\"]\n",
    "\n",
    "preprocess_pipeline = ColumnTransformer([\n",
    "        (\"num\", num_pipeline, num_attribs),\n",
    "        (\"cat\", cat_pipeline, cat_attribs),\n",
    "    ])"
   ]
  },
  {
   "cell_type": "code",
   "execution_count": null,
   "metadata": {
    "execution": {
     "iopub.execute_input": "2022-04-11T05:20:45.843722Z",
     "iopub.status.busy": "2022-04-11T05:20:45.84248Z",
     "iopub.status.idle": "2022-04-11T05:20:45.867681Z",
     "shell.execute_reply": "2022-04-11T05:20:45.866758Z",
     "shell.execute_reply.started": "2022-04-11T05:20:45.843679Z"
    }
   },
   "outputs": [],
   "source": [
    "X_train = preprocess_pipeline.fit_transform(train_data)\n",
    "X_train"
   ]
  },
  {
   "cell_type": "code",
   "execution_count": null,
   "metadata": {
    "execution": {
     "iopub.execute_input": "2022-04-11T05:20:45.87137Z",
     "iopub.status.busy": "2022-04-11T05:20:45.871037Z",
     "iopub.status.idle": "2022-04-11T05:20:45.875254Z",
     "shell.execute_reply": "2022-04-11T05:20:45.874707Z",
     "shell.execute_reply.started": "2022-04-11T05:20:45.871343Z"
    }
   },
   "outputs": [],
   "source": [
    "y_train = train_data[\"Survived\"]"
   ]
  },
  {
   "cell_type": "code",
   "execution_count": null,
   "metadata": {
    "execution": {
     "iopub.execute_input": "2022-04-11T05:20:45.876815Z",
     "iopub.status.busy": "2022-04-11T05:20:45.876379Z",
     "iopub.status.idle": "2022-04-11T05:20:46.152409Z",
     "shell.execute_reply": "2022-04-11T05:20:46.151623Z",
     "shell.execute_reply.started": "2022-04-11T05:20:45.876778Z"
    }
   },
   "outputs": [],
   "source": [
    "from sklearn.ensemble import RandomForestClassifier\n",
    "forest_clf = RandomForestClassifier(n_estimators=100, random_state=42)\n",
    "forest_clf.fit(X_train, y_train)"
   ]
  },
  {
   "cell_type": "code",
   "execution_count": null,
   "metadata": {
    "execution": {
     "iopub.execute_input": "2022-04-11T05:20:46.153857Z",
     "iopub.status.busy": "2022-04-11T05:20:46.153598Z",
     "iopub.status.idle": "2022-04-11T05:20:46.183203Z",
     "shell.execute_reply": "2022-04-11T05:20:46.182607Z",
     "shell.execute_reply.started": "2022-04-11T05:20:46.153829Z"
    }
   },
   "outputs": [],
   "source": [
    "X_test = preprocess_pipeline.transform(test_data)\n",
    "y_pred = forest_clf.predict(X_test)"
   ]
  },
  {
   "cell_type": "code",
   "execution_count": null,
   "metadata": {
    "execution": {
     "iopub.execute_input": "2022-04-11T05:20:46.184721Z",
     "iopub.status.busy": "2022-04-11T05:20:46.184052Z",
     "iopub.status.idle": "2022-04-11T05:20:47.915121Z",
     "shell.execute_reply": "2022-04-11T05:20:47.914601Z",
     "shell.execute_reply.started": "2022-04-11T05:20:46.184687Z"
    }
   },
   "outputs": [],
   "source": [
    "from sklearn.model_selection import cross_val_score\n",
    "forest_scores = cross_val_score(forest_clf, X_train, y_train, cv=10)\n",
    "forest_scores.mean()"
   ]
  },
  {
   "cell_type": "code",
   "execution_count": null,
   "metadata": {
    "execution": {
     "iopub.execute_input": "2022-04-11T05:20:47.916685Z",
     "iopub.status.busy": "2022-04-11T05:20:47.9161Z",
     "iopub.status.idle": "2022-04-11T05:20:48.170633Z",
     "shell.execute_reply": "2022-04-11T05:20:48.16984Z",
     "shell.execute_reply.started": "2022-04-11T05:20:47.916656Z"
    }
   },
   "outputs": [],
   "source": [
    "from sklearn.svm import SVC\n",
    "\n",
    "svm_clf = SVC(gamma=\"auto\")\n",
    "svm_scores = cross_val_score(svm_clf, X_train, y_train, cv=10)\n",
    "svm_scores.mean()"
   ]
  },
  {
   "cell_type": "code",
   "execution_count": null,
   "metadata": {
    "execution": {
     "iopub.execute_input": "2022-04-11T05:20:48.171943Z",
     "iopub.status.busy": "2022-04-11T05:20:48.171733Z",
     "iopub.status.idle": "2022-04-11T05:20:48.364403Z",
     "shell.execute_reply": "2022-04-11T05:20:48.363594Z",
     "shell.execute_reply.started": "2022-04-11T05:20:48.171916Z"
    }
   },
   "outputs": [],
   "source": [
    "import matplotlib.pyplot as plt\n",
    "plt.figure(figsize=(8, 4))\n",
    "plt.plot([1]*10, svm_scores, \".\")\n",
    "plt.plot([2]*10, forest_scores, \".\")\n",
    "plt.boxplot([svm_scores, forest_scores], labels=(\"SVM\", \"Random Forest\"))\n",
    "plt.ylabel(\"Accuracy\")\n",
    "plt.show()"
   ]
  },
  {
   "cell_type": "code",
   "execution_count": null,
   "metadata": {
    "execution": {
     "iopub.execute_input": "2022-04-11T05:20:48.365773Z",
     "iopub.status.busy": "2022-04-11T05:20:48.365517Z",
     "iopub.status.idle": "2022-04-11T05:20:48.383377Z",
     "shell.execute_reply": "2022-04-11T05:20:48.382672Z",
     "shell.execute_reply.started": "2022-04-11T05:20:48.365745Z"
    }
   },
   "outputs": [],
   "source": [
    "train_data[\"AgeBucket\"] = train_data[\"Age\"] // 15 * 15\n",
    "train_data[[\"AgeBucket\", \"Survived\"]].groupby(['AgeBucket']).mean()"
   ]
  },
  {
   "cell_type": "code",
   "execution_count": null,
   "metadata": {
    "execution": {
     "iopub.execute_input": "2022-04-11T05:20:48.385105Z",
     "iopub.status.busy": "2022-04-11T05:20:48.384535Z",
     "iopub.status.idle": "2022-04-11T05:20:48.39787Z",
     "shell.execute_reply": "2022-04-11T05:20:48.397145Z",
     "shell.execute_reply.started": "2022-04-11T05:20:48.385071Z"
    }
   },
   "outputs": [],
   "source": [
    "train_data[\"RelativesOnboard\"] = train_data[\"SibSp\"] + train_data[\"Parch\"]\n",
    "train_data[[\"RelativesOnboard\", \"Survived\"]].groupby(\n",
    "    ['RelativesOnboard']).mean()"
   ]
  },
  {
   "cell_type": "code",
   "execution_count": null,
   "metadata": {},
   "outputs": [],
   "source": []
  }
 ],
 "metadata": {
  "kernelspec": {
   "display_name": "Python 3 (ipykernel)",
   "language": "python",
   "name": "python3"
  },
  "language_info": {
   "codemirror_mode": {
    "name": "ipython",
    "version": 3
   },
   "file_extension": ".py",
   "mimetype": "text/x-python",
   "name": "python",
   "nbconvert_exporter": "python",
   "pygments_lexer": "ipython3",
   "version": "3.8.2"
  }
 },
 "nbformat": 4,
 "nbformat_minor": 4
}
